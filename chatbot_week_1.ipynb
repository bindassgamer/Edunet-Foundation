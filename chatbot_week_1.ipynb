{
 "cells": [
  {
   "cell_type": "markdown",
   "id": "YBhfXKi5dC_u",
   "metadata": {
    "id": "YBhfXKi5dC_u"
   },
   "source": [
    "# Intent-based Chatbot\n",
    "<img src=\"D:\\edunet_foundation\\Edunet AICTE Internship\\Projects Cycle II\\Implementation of Chatbots using NLP\\images\\chatbot.png\" alt=\"chatbot\" width=\"600\" height=\"500\">\n"
   ]
  },
  {
   "cell_type": "markdown",
   "id": "WdvvicSZZ8Q5",
   "metadata": {
    "id": "WdvvicSZZ8Q5"
   },
   "source": [
    "## Introduction to Chatbots:\n",
    "\n",
    "A chatbot is a software application designed to simulate human-like conversations.\n",
    "They are widely used in booking tickets, answering questions, shopping online, etc.\n",
    "\n",
    "Examples: Amazon Alexa, Apple Siri, MakeMyTrip bot, Swiggy Genie.\n",
    "### How Chatbots Work:\n",
    "  \n",
    "  Chatbots use rules, artificial intelligence (AI), or both to process user queries and provide responses.\n",
    "\n",
    "### Challenges in Building Chatbots:\n",
    "\n",
    "Human communication is complex, involving:\n",
    "\n",
    "* Slang, misspellings, and accents.\n",
    "* Subtle nuances like different greetings (\"Hey!\" vs. \"Howdy!\").\n",
    "* Training a chatbot is like teaching it a new language, requiring technologies like Natural Language Processing (NLP).\n",
    "\n",
    "\n",
    "\n",
    "### Types of Chatbots:\n",
    "- Scripted Chatbots (Rule-based):\n",
    "Follow predefined rules.\n",
    "Best for straightforward queries.\n",
    "Limited capability for handling complex interactions.\n",
    "- AI-powered Chatbots:\n",
    "Use NLP and machine learning.\n",
    "Offer more human-like and context-aware interactions.\n",
    "\n",
    "## Our Focus:\n",
    "\n",
    "Intent-based Chatbots:\n",
    "A subset of AI-powered chatbots.\n",
    "Works by identifying the user's intent or purpose behind a query.\n",
    "\n",
    "Example: Recognizes \"What's the weather today?\" as a weather inquiry intent.\n",
    "Uses structured datasets to map inputs to intents and provide suitable responses.Can handle a variety of user inputs for each intent.\n",
    "\n",
    "### Development Environment Setup:\n",
    "\n",
    "- Jupyter Notebook:\n",
    "Use as the coding environment.\n",
    "Install with:\n",
    "`pip install notebook`\n",
    "\n",
    "- Libraries Required:\n",
    "nltk, sklearn, and streamlit.\n",
    "Install with:\n",
    "`pip install nltk scikit-learn streamlit.`"
   ]
  },
  {
   "cell_type": "markdown",
   "id": "d2b9f0c7-b0b6-4fce-b067-d8450ebba259",
   "metadata": {
    "id": "e909286a"
   },
   "source": [
    "\n",
    "<img src= \"D:\\edunet_foundation\\Edunet AICTE Internship\\Projects Cycle II\\Implementation of Chatbots using NLP\\images\\development.png\" alt=\"chatbot\" width=\"200\" height=\"200\">\n",
    "\n",
    "Now let’s start with creating an end-to-end chatbot using Python. I’ll start this task by importing the necessary Python libraries for this task:"
   ]
  },
  {
   "cell_type": "code",
   "execution_count": null,
   "id": "d1f646be",
   "metadata": {
    "colab": {
     "base_uri": "https://localhost:8080/"
    },
    "id": "d1f646be",
    "outputId": "ce0c6a05-e32a-411a-ce4a-38c9ff5db94f"
   },
   "outputs": [
    {
     "name": "stderr",
     "output_type": "stream",
     "text": [
      "[nltk_data] Downloading package punkt to /root/nltk_data...\n",
      "[nltk_data]   Package punkt is already up-to-date!\n"
     ]
    },
    {
     "data": {
      "text/plain": [
       "True"
      ]
     },
     "execution_count": 1,
     "metadata": {},
     "output_type": "execute_result"
    }
   ],
   "source": [
    "import os\n",
    "import nltk\n",
    "import ssl\n",
    "import streamlit as st\n",
    "import random\n",
    "from sklearn.feature_extraction.text import TfidfVectorizer\n",
    "from sklearn.linear_model import LogisticRegression\n",
    "\n",
    "ssl._create_default_https_context = ssl._create_unverified_context\n",
    "nltk.data.path.append(os.path.abspath(\"nltk_data\"))\n",
    "nltk.download('punkt')"
   ]
  },
  {
   "cell_type": "markdown",
   "id": "cfdcb061-3f5c-4745-a5a6-ce752648553a",
   "metadata": {
    "id": "2c1b4e81"
   },
   "source": [
    "Now let’s define some intents of the chatbot. You can add more intents to make the chatbot more helpful and more functional:"
   ]
  },
  {
   "cell_type": "code",
   "execution_count": null,
   "id": "d007afc7",
   "metadata": {
    "id": "d007afc7"
   },
   "outputs": [],
   "source": [
    "intents = [\n",
    "    {\n",
    "        \"tag\": \"greeting\",\n",
    "        \"patterns\": [\"Hi\", \"Hello\", \"Hey\", \"How are you\", \"What's up\"],\n",
    "        \"responses\": [\"Hi there\", \"Hello\", \"Hey\", \"I'm fine, thank you\", \"Nothing much\"]\n",
    "    },\n",
    "    {\n",
    "        \"tag\": \"goodbye\",\n",
    "        \"patterns\": [\"Bye\", \"See you later\", \"Goodbye\", \"Take care\"],\n",
    "        \"responses\": [\"Goodbye\", \"See you later\", \"Take care\"]\n",
    "    },\n",
    "    {\n",
    "        \"tag\": \"thanks\",\n",
    "        \"patterns\": [\"Thank you\", \"Thanks\", \"Thanks a lot\", \"I appreciate it\"],\n",
    "        \"responses\": [\"You're welcome\", \"No problem\", \"Glad I could help\"]\n",
    "    },\n",
    "    {\n",
    "        \"tag\": \"about\",\n",
    "        \"patterns\": [\"What can you do\", \"Who are you\", \"What are you\", \"What is your purpose\"],\n",
    "        \"responses\": [\"I am a chatbot\", \"My purpose is to assist you\", \"I can answer questions and provide assistance\"]\n",
    "    },\n",
    "    {\n",
    "        \"tag\": \"help\",\n",
    "        \"patterns\": [\"Help\", \"I need help\", \"Can you help me\", \"What should I do\"],\n",
    "        \"responses\": [\"Sure, what do you need help with?\", \"I'm here to help. What's the problem?\", \"How can I assist you?\"]\n",
    "    },\n",
    "    {\n",
    "        \"tag\": \"age\",\n",
    "        \"patterns\": [\"How old are you\", \"What's your age\"],\n",
    "        \"responses\": [\"I don't have an age. I'm a chatbot.\", \"I was just born in the digital world.\", \"Age is just a number for me.\"]\n",
    "    },\n",
    "    {\n",
    "        \"tag\": \"weather\",\n",
    "        \"patterns\": [\"What's the weather like\", \"How's the weather today\"],\n",
    "        \"responses\": [\"I'm sorry, I cannot provide real-time weather information.\", \"You can check the weather on a weather app or website.\"]\n",
    "    },\n",
    "    {\n",
    "        \"tag\": \"budget\",\n",
    "        \"patterns\": [\"How can I make a budget\", \"What's a good budgeting strategy\", \"How do I create a budget\"],\n",
    "        \"responses\": [\"To make a budget, start by tracking your income and expenses. Then, allocate your income towards essential expenses like rent, food, and bills. Next, allocate some of your income towards savings and debt repayment. Finally, allocate the remainder of your income towards discretionary expenses like entertainment and hobbies.\", \"A good budgeting strategy is to use the 50/30/20 rule. This means allocating 50% of your income towards essential expenses, 30% towards discretionary expenses, and 20% towards savings and debt repayment.\", \"To create a budget, start by setting financial goals for yourself. Then, track your income and expenses for a few months to get a sense of where your money is going. Next, create a budget by allocating your income towards essential expenses, savings and debt repayment, and discretionary expenses.\"]\n",
    "    },\n",
    "    {\n",
    "        \"tag\": \"credit_score\",\n",
    "        \"patterns\": [\"What is a credit score\", \"How do I check my credit score\", \"How can I improve my credit score\"],\n",
    "        \"responses\": [\"A credit score is a number that represents your creditworthiness. It is based on your credit history and is used by lenders to determine whether or not to lend you money. The higher your credit score, the more likely you are to be approved for credit.\", \"You can check your credit score for free on several websites such as Credit Karma and Credit Sesame.\"]\n",
    "    }\n",
    "]"
   ]
  },
  {
   "cell_type": "markdown",
   "id": "0a268191-8f4d-4f4b-b185-0598df8474d1",
   "metadata": {
    "id": "012bf411"
   },
   "source": [
    "Now, let’s prepare the intents and train a Machine Learning model to recognize intents, and build the logic to generate responses."
   ]
  },
  {
   "cell_type": "markdown",
   "id": "4OiCmFrQW3hs",
   "metadata": {
    "id": "4OiCmFrQW3hs"
   },
   "source": [
    "\n",
    "<img src=\"D:\\edunet_foundation\\Edunet AICTE Internship\\Projects Cycle II\\Implementation of Chatbots using NLP\\images\\great.png\" alt=\"chatbot\" width=\"100\" height=\"100\">\n",
    "\n",
    "## Thank You!!!\n",
    "\n"
   ]
  }
 ],
 "metadata": {
  "colab": {
   "provenance": []
  },
  "kernelspec": {
   "display_name": "Python 3 (ipykernel)",
   "language": "python",
   "name": "python3"
  },
  "language_info": {
   "codemirror_mode": {
    "name": "ipython",
    "version": 3
   },
   "file_extension": ".py",
   "mimetype": "text/x-python",
   "name": "python",
   "nbconvert_exporter": "python",
   "pygments_lexer": "ipython3",
   "version": "3.9.13"
  }
 },
 "nbformat": 4,
 "nbformat_minor": 5
}
